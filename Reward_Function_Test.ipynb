{
  "nbformat": 4,
  "nbformat_minor": 0,
  "metadata": {
    "colab": {
      "provenance": [],
      "include_colab_link": true
    },
    "kernelspec": {
      "name": "python3",
      "display_name": "Python 3"
    },
    "language_info": {
      "name": "python"
    }
  },
  "cells": [
    {
      "cell_type": "markdown",
      "metadata": {
        "id": "view-in-github",
        "colab_type": "text"
      },
      "source": [
        "<a href=\"https://colab.research.google.com/github/Michael-L-i-1/CS231N-Final-Project/blob/main/Reward_Function_Test.ipynb\" target=\"_parent\"><img src=\"https://colab.research.google.com/assets/colab-badge.svg\" alt=\"Open In Colab\"/></a>"
      ]
    },
    {
      "cell_type": "code",
      "execution_count": null,
      "metadata": {
        "id": "X-ckEV0ArDHV",
        "outputId": "b25f47de-991e-4978-ce72-bd2016a2d04c",
        "colab": {
          "base_uri": "https://localhost:8080/"
        }
      },
      "outputs": [
        {
          "output_type": "execute_result",
          "data": {
            "text/plain": [
              "45"
            ]
          },
          "metadata": {},
          "execution_count": 1
        }
      ],
      "source": [
        "correct = [\"Anna\", \"Bob\", \"Charles\", \"Daniel\", \"Edward\"]\n",
        "trial = [\"Anna\", \"Edward\", \"Olivia\", \"Mike\", \"Bob\"]\n",
        "\n",
        "\n",
        "def calculate_reward(correct, trial):\n",
        "  MAX_REWARD = 100\n",
        "  PENALTY_PER_LENGTH_MISMATCH = 10\n",
        "  PENALTY_FOR_HALLUCINATION = 25\n",
        "\n",
        "  reward = MAX_REWARD\n",
        "  len_correct = len(correct)\n",
        "  len_trial = len(trial)\n",
        "\n",
        "  reward -= abs(len_correct - len_trial) * PENALTY_PER_LENGTH_MISMATCH\n",
        "\n",
        "  if len_correct == 0:\n",
        "      return MAX_REWARD if len_trial == 0 else max(0, reward)\n",
        "\n",
        "  correct_map = {name: idx for idx, name in enumerate(correct)}\n",
        "  unmatched_gold = list(correct) # To handle duplicates\n",
        "\n",
        "  hallucination_penalty = 0\n",
        "  for t_idx, t_name in enumerate(trial):\n",
        "      if t_name in correct_map:\n",
        "          try:\n",
        "              g_idx_in_unmatched = unmatched_gold.index(t_name)\n",
        "              original_g_idx = g_idx_in_unmatched + (len_correct - len(unmatched_gold))\n",
        "              reward -= abs(t_idx - original_g_idx)\n",
        "              unmatched_gold.remove(t_name)\n",
        "          except ValueError:\n",
        "              pass # Already matched or not a required instance\n",
        "      else:\n",
        "          hallucination_penalty += PENALTY_FOR_HALLUCINATION\n",
        "\n",
        "  reward -= hallucination_penalty\n",
        "\n",
        "  return max(0, reward)\n",
        "\n",
        "calculate_reward(correct, trial)"
      ]
    },
    {
      "cell_type": "code",
      "source": [
        "from google.colab import drive\n",
        "drive.mount('/content/drive')"
      ],
      "metadata": {
        "id": "7ZLLC4qWaf-y"
      },
      "execution_count": null,
      "outputs": []
    }
  ]
}